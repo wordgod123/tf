{
 "cells": [
  {
   "cell_type": "code",
   "execution_count": 1,
   "metadata": {
    "collapsed": true
   },
   "outputs": [],
   "source": [
    "import numpy as np\n",
    "import tensorflow as tf"
   ]
  },
  {
   "cell_type": "code",
   "execution_count": 2,
   "metadata": {
    "collapsed": true
   },
   "outputs": [],
   "source": [
    "def model(features, labels, mode):\n",
    "    W = tf.get_variable(\"W\", [1], dtype=tf.float64)\n",
    "    b = tf.get_variable(\"b\", [1], dtype=tf.float64)\n",
    "    y = W*features['x'] + b\n",
    "    \n",
    "    loss = tf.reduce_sum(tf.square(y - labels))\n",
    "    global_step = tf.train.get_global_step()\n",
    "    optimizer = tf.train.GradientDescentOptimizer(0.01)\n",
    "    train = tf.group(optimizer.minimize(loss), tf.assign_add(global_step, 1))\n",
    "    \n",
    "    return tf.contrib.learn.ModelFnOps(mode=mode, predictions=y, loss=loss, train_op=train)"
   ]
  },
  {
   "cell_type": "code",
   "execution_count": 3,
   "metadata": {},
   "outputs": [
    {
     "name": "stdout",
     "output_type": "stream",
     "text": [
      "INFO:tensorflow:Using default config.\n",
      "WARNING:tensorflow:Using temporary folder as model directory: C:\\Users\\lenovo\\AppData\\Local\\Temp\\tmptrdo3zoa\n",
      "INFO:tensorflow:Using config: {'_task_type': None, '_task_id': 0, '_cluster_spec': <tensorflow.python.training.server_lib.ClusterSpec object at 0x000000000B89DF98>, '_master': '', '_num_ps_replicas': 0, '_num_worker_replicas': 0, '_environment': 'local', '_is_chief': True, '_evaluation_master': '', '_tf_config': gpu_options {\n",
      "  per_process_gpu_memory_fraction: 1\n",
      "}\n",
      ", '_tf_random_seed': None, '_save_summary_steps': 100, '_save_checkpoints_secs': 600, '_session_config': None, '_save_checkpoints_steps': None, '_keep_checkpoint_max': 5, '_keep_checkpoint_every_n_hours': 10000, '_model_dir': 'C:\\\\Users\\\\lenovo\\\\AppData\\\\Local\\\\Temp\\\\tmptrdo3zoa'}\n"
     ]
    }
   ],
   "source": [
    "estimator = tf.contrib.learn.Estimator(model_fn=model)"
   ]
  },
  {
   "cell_type": "code",
   "execution_count": 4,
   "metadata": {
    "collapsed": true
   },
   "outputs": [],
   "source": [
    "x_train = np.array([1., 2., 3., 4.])\n",
    "y_train = np.array([0., -1., -2., -3.])\n",
    "x_eval = np.array([2., 5., 8., 1.])\n",
    "y_eval = np.array([-1.01, -4.1, -7, 0.])"
   ]
  },
  {
   "cell_type": "code",
   "execution_count": 8,
   "metadata": {},
   "outputs": [],
   "source": [
    "input_fn = tf.contrib.learn.io.numpy_input_fn({\"x\": x_train}, y_train, batch_size=4, num_epochs=1000)\n",
    "eval_input_fn = tf.contrib.learn.io.numpy_input_fn({\"x\": x_eval}, y_eval, batch_size=4, num_epochs=1000)"
   ]
  },
  {
   "cell_type": "code",
   "execution_count": 6,
   "metadata": {},
   "outputs": [
    {
     "name": "stdout",
     "output_type": "stream",
     "text": [
      "INFO:tensorflow:Create CheckpointSaverHook.\n",
      "INFO:tensorflow:Saving checkpoints for 1 into C:\\Users\\lenovo\\AppData\\Local\\Temp\\tmptrdo3zoa\\model.ckpt.\n",
      "INFO:tensorflow:loss = 12.6156693657, step = 1\n",
      "INFO:tensorflow:global_step/sec: 970.872\n",
      "INFO:tensorflow:loss = 0.378912752548, step = 101 (0.109 sec)\n",
      "INFO:tensorflow:global_step/sec: 1204.82\n",
      "INFO:tensorflow:loss = 0.0361371413057, step = 201 (0.059 sec)\n",
      "INFO:tensorflow:global_step/sec: 1785.71\n",
      "INFO:tensorflow:loss = 0.00231126476931, step = 301 (0.055 sec)\n",
      "INFO:tensorflow:global_step/sec: 1851.85\n",
      "INFO:tensorflow:loss = 0.000380979920916, step = 401 (0.054 sec)\n",
      "INFO:tensorflow:global_step/sec: 1449.28\n",
      "INFO:tensorflow:loss = 1.41802312101e-05, step = 501 (0.069 sec)\n",
      "INFO:tensorflow:global_step/sec: 1785.71\n",
      "INFO:tensorflow:loss = 1.23926991987e-06, step = 601 (0.057 sec)\n",
      "INFO:tensorflow:global_step/sec: 1785.71\n",
      "INFO:tensorflow:loss = 5.67250456907e-08, step = 701 (0.055 sec)\n",
      "INFO:tensorflow:global_step/sec: 2222.23\n",
      "INFO:tensorflow:loss = 1.07250522693e-08, step = 801 (0.046 sec)\n",
      "INFO:tensorflow:global_step/sec: 2499.99\n",
      "INFO:tensorflow:loss = 6.07981136418e-10, step = 901 (0.040 sec)\n",
      "INFO:tensorflow:Saving checkpoints for 1000 into C:\\Users\\lenovo\\AppData\\Local\\Temp\\tmptrdo3zoa\\model.ckpt.\n",
      "INFO:tensorflow:Loss for final step: 1.20862770227e-10.\n"
     ]
    },
    {
     "data": {
      "text/plain": [
       "Estimator(params=None)"
      ]
     },
     "execution_count": 6,
     "metadata": {},
     "output_type": "execute_result"
    }
   ],
   "source": [
    "estimator.fit(input_fn=input_fn, steps=1000)"
   ]
  },
  {
   "cell_type": "code",
   "execution_count": 9,
   "metadata": {},
   "outputs": [
    {
     "name": "stdout",
     "output_type": "stream",
     "text": [
      "INFO:tensorflow:Starting evaluation at 2017-06-30-09:41:05\n",
      "INFO:tensorflow:Restoring parameters from C:\\Users\\lenovo\\AppData\\Local\\Temp\\tmptrdo3zoa\\model.ckpt-1000\n",
      "INFO:tensorflow:Finished evaluation at 2017-06-30-09:41:05\n",
      "INFO:tensorflow:Saving dict for global step 1000: global_step = 1000, loss = 7.6147e-11\n",
      "INFO:tensorflow:Starting evaluation at 2017-06-30-09:41:06\n",
      "INFO:tensorflow:Restoring parameters from C:\\Users\\lenovo\\AppData\\Local\\Temp\\tmptrdo3zoa\\model.ckpt-1000\n",
      "INFO:tensorflow:Finished evaluation at 2017-06-30-09:41:06\n",
      "INFO:tensorflow:Saving dict for global step 1000: global_step = 1000, loss = 0.0101013\n"
     ]
    }
   ],
   "source": [
    "train_loss = estimator.evaluate(input_fn=input_fn)\n",
    "eval_loss = estimator.evaluate(input_fn=eval_input_fn)"
   ]
  },
  {
   "cell_type": "code",
   "execution_count": 10,
   "metadata": {},
   "outputs": [
    {
     "name": "stdout",
     "output_type": "stream",
     "text": [
      "train loss: {'loss': 7.6147033e-11, 'global_step': 1000}\n",
      "eval loss: {'loss': 0.010101344, 'global_step': 1000}\n"
     ]
    }
   ],
   "source": [
    "print(\"train loss: %r\"% train_loss)\n",
    "print(\"eval loss: %r\"% eval_loss)"
   ]
  }
 ],
 "metadata": {
  "kernelspec": {
   "display_name": "Python 3",
   "language": "python",
   "name": "python3"
  },
  "language_info": {
   "codemirror_mode": {
    "name": "ipython",
    "version": 3
   },
   "file_extension": ".py",
   "mimetype": "text/x-python",
   "name": "python",
   "nbconvert_exporter": "python",
   "pygments_lexer": "ipython3",
   "version": "3.6.1"
  }
 },
 "nbformat": 4,
 "nbformat_minor": 2
}
